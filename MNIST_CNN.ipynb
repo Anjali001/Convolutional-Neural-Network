{
  "nbformat": 4,
  "nbformat_minor": 0,
  "metadata": {
    "colab": {
      "name": "MNIST_CNN",
      "version": "0.3.2",
      "provenance": [],
      "collapsed_sections": [],
      "include_colab_link": true
    },
    "kernelspec": {
      "name": "python3",
      "display_name": "Python 3"
    }
  },
  "cells": [
    {
      "cell_type": "markdown",
      "metadata": {
        "id": "view-in-github",
        "colab_type": "text"
      },
      "source": [
        "<a href=\"https://colab.research.google.com/github/Anjali001/Convolutional-Neural-Network/blob/master/MNIST_CNN.ipynb\" target=\"_parent\"><img src=\"https://colab.research.google.com/assets/colab-badge.svg\" alt=\"Open In Colab\"/></a>"
      ]
    },
    {
      "cell_type": "code",
      "metadata": {
        "id": "sc2Oh2nXZT3g",
        "colab_type": "code",
        "outputId": "861efb3a-8a6d-42fe-d05e-31c7164f24e2",
        "colab": {
          "base_uri": "https://localhost:8080/",
          "height": 187
        }
      },
      "source": [
        "## MNIST data is present in Keras\n",
        "from keras.datasets import mnist\n",
        "from keras.models import Sequential\n",
        "from keras.layers import Dense, Dropout, Flatten\n",
        "from keras.layers import Conv2D, MaxPooling2D\n",
        "import numpy as np\n",
        "## Use https://keras.io/datasets/ \n",
        "samples=mnist.load_data()\n",
        "type(samples)\n",
        "## This dataset is a set of 2 tuples. One for Training and other for testing\n",
        "(Train_samples,Train_targets),(Test_samples,Test_targets)=samples\n",
        "# Step 1 : Know your data\n",
        "print(len(Train_samples))\n",
        "print(Train_samples.shape)\n",
        "print(len(Train_targets))\n",
        "print(Train_targets.shape)\n",
        "print(len(Test_samples))\n",
        "print(Test_samples.shape)\n",
        "print(len(Test_targets))\n",
        "print(Test_targets.shape)\n",
        "print(np.amax(Train_samples)) # Max value\n",
        "print(np.amin(Train_samples))#Min Value\n"
      ],
      "execution_count": 12,
      "outputs": [
        {
          "output_type": "stream",
          "text": [
            "60000\n",
            "(60000, 28, 28)\n",
            "60000\n",
            "(60000,)\n",
            "10000\n",
            "(10000, 28, 28)\n",
            "10000\n",
            "(10000,)\n",
            "255\n",
            "0\n"
          ],
          "name": "stdout"
        }
      ]
    },
    {
      "cell_type": "code",
      "metadata": {
        "id": "USLKXdeXhX7U",
        "colab_type": "code",
        "outputId": "f038238c-5587-45a8-ffaf-6b42130fb3e0",
        "colab": {
          "base_uri": "https://localhost:8080/",
          "height": 286
        }
      },
      "source": [
        "# Step 2 : See how data looks like\n",
        "%matplotlib inline\n",
        "import matplotlib.pyplot as plt\n",
        "\n",
        "pixels = Train_samples[1] # Shape (28, 28)\n",
        "plt.imshow(pixels, cmap='gray')\n",
        "plt.show()\n",
        "print('Label of image is', Train_targets[1])"
      ],
      "execution_count": 2,
      "outputs": [
        {
          "output_type": "display_data",
          "data": {
            "image/png": "[encoded data removed]",
            "text/plain": [
              "<Figure size 432x288 with 1 Axes>"
            ]
          },
          "metadata": {
            "tags": []
          }
        },
        {
          "output_type": "stream",
          "text": [
            "Label of image is 0\n"
          ],
          "name": "stdout"
        }
      ]
    },
    {
      "cell_type": "code",
      "metadata": {
        "id": "7SyAtUedjJlv",
        "colab_type": "code",
        "colab": {}
      },
      "source": [
        "# Step 3 : Reshape the data . 1 at last signifies that it's a grey scale image. 3 is used for RGB images.\n",
        "Train_samples=Train_samples.reshape(Train_samples.shape[0], 28, 28, 1)\n",
        "Test_samples =Test_samples.reshape(Test_samples.shape[0], 28, 28, 1)"
      ],
      "execution_count": 0,
      "outputs": []
    },
    {
      "cell_type": "code",
      "metadata": {
        "id": "A_aoLFx5t9aC",
        "colab_type": "code",
        "colab": {}
      },
      "source": [
        "# Step 4 : Scaling the input features between 0-1\n",
        "Train_samples=Train_samples/255\n",
        "Test_samples =Test_samples/255"
      ],
      "execution_count": 0,
      "outputs": []
    },
    {
      "cell_type": "code",
      "metadata": {
        "id": "LUyi3fBwkU-G",
        "colab_type": "code",
        "colab": {}
      },
      "source": [
        "# Step 6 : One-Hot Encoding\n",
        "from keras.utils import to_categorical\n",
        "Train_targets = to_categorical(Train_targets,num_classes=10)\n",
        "Test_targets = to_categorical(Test_targets,num_classes=10)"
      ],
      "execution_count": 0,
      "outputs": []
    },
    {
      "cell_type": "code",
      "metadata": {
        "id": "UsxUdxjhqU7T",
        "colab_type": "code",
        "colab": {
          "base_uri": "https://localhost:8080/",
          "height": 343
        },
        "outputId": "d4226fa8-b32f-4aff-be2d-87da3a0035c1"
      },
      "source": [
        "# Step 7 : Creating the model\n",
        "model = Sequential()\n",
        "model.add(Conv2D(32, kernel_size=(3, 3),activation='relu',input_shape=(28,28,1)))\n",
        "model.add(Conv2D(64, kernel_size=(3, 3), activation='relu'))\n",
        "model.add(MaxPooling2D(pool_size=(2, 2)))\n",
        "model.add(Dropout(0.3))\n",
        "model.add(Flatten())\n",
        "model.add(Dense(128, activation='relu'))\n",
        "model.add(Dropout(0.5))\n",
        "model.add(Dense(10, activation='softmax'))\n",
        "model.compile(optimizer='adam',loss=['categorical_crossentropy'],metrics=['accuracy'])\n"
      ],
      "execution_count": 7,
      "outputs": [
        {
          "output_type": "stream",
          "text": [
            "WARNING: Logging before flag parsing goes to stderr.\n",
            "W0730 07:12:07.284680 140633671989120 deprecation_wrapper.py:119] From /usr/local/lib/python3.6/dist-packages/keras/backend/tensorflow_backend.py:74: The name tf.get_default_graph is deprecated. Please use tf.compat.v1.get_default_graph instead.\n",
            "\n",
            "W0730 07:12:07.304354 140633671989120 deprecation_wrapper.py:119] From /usr/local/lib/python3.6/dist-packages/keras/backend/tensorflow_backend.py:517: The name tf.placeholder is deprecated. Please use tf.compat.v1.placeholder instead.\n",
            "\n",
            "W0730 07:12:07.307594 140633671989120 deprecation_wrapper.py:119] From /usr/local/lib/python3.6/dist-packages/keras/backend/tensorflow_backend.py:4138: The name tf.random_uniform is deprecated. Please use tf.random.uniform instead.\n",
            "\n",
            "W0730 07:12:07.344063 140633671989120 deprecation_wrapper.py:119] From /usr/local/lib/python3.6/dist-packages/keras/backend/tensorflow_backend.py:3976: The name tf.nn.max_pool is deprecated. Please use tf.nn.max_pool2d instead.\n",
            "\n",
            "W0730 07:12:07.347279 140633671989120 deprecation_wrapper.py:119] From /usr/local/lib/python3.6/dist-packages/keras/backend/tensorflow_backend.py:133: The name tf.placeholder_with_default is deprecated. Please use tf.compat.v1.placeholder_with_default instead.\n",
            "\n",
            "W0730 07:12:07.359266 140633671989120 deprecation.py:506] From /usr/local/lib/python3.6/dist-packages/keras/backend/tensorflow_backend.py:3445: calling dropout (from tensorflow.python.ops.nn_ops) with keep_prob is deprecated and will be removed in a future version.\n",
            "Instructions for updating:\n",
            "Please use `rate` instead of `keep_prob`. Rate should be set to `rate = 1 - keep_prob`.\n",
            "W0730 07:12:07.430239 140633671989120 deprecation_wrapper.py:119] From /usr/local/lib/python3.6/dist-packages/keras/optimizers.py:790: The name tf.train.Optimizer is deprecated. Please use tf.compat.v1.train.Optimizer instead.\n",
            "\n",
            "W0730 07:12:07.456138 140633671989120 deprecation_wrapper.py:119] From /usr/local/lib/python3.6/dist-packages/keras/backend/tensorflow_backend.py:3295: The name tf.log is deprecated. Please use tf.math.log instead.\n",
            "\n"
          ],
          "name": "stderr"
        }
      ]
    },
    {
      "cell_type": "code",
      "metadata": {
        "id": "OorhgpppqiqM",
        "colab_type": "code",
        "outputId": "19b2561f-fa05-48f3-b9b1-7573ad3a6bbd",
        "colab": {
          "base_uri": "https://localhost:8080/",
          "height": 408
        }
      },
      "source": [
        "# Step 8 : Understanding the model\n",
        "model.summary()"
      ],
      "execution_count": 8,
      "outputs": [
        {
          "output_type": "stream",
          "text": [
            "_________________________________________________________________\n",
            "Layer (type)                 Output Shape              Param #   \n",
            "=================================================================\n",
            "conv2d_1 (Conv2D)            (None, 26, 26, 32)        320       \n",
            "_________________________________________________________________\n",
            "conv2d_2 (Conv2D)            (None, 24, 24, 64)        18496     \n",
            "_________________________________________________________________\n",
            "max_pooling2d_1 (MaxPooling2 (None, 12, 12, 64)        0         \n",
            "_________________________________________________________________\n",
            "dropout_1 (Dropout)          (None, 12, 12, 64)        0         \n",
            "_________________________________________________________________\n",
            "flatten_1 (Flatten)          (None, 9216)              0         \n",
            "_________________________________________________________________\n",
            "dense_1 (Dense)              (None, 128)               1179776   \n",
            "_________________________________________________________________\n",
            "dropout_2 (Dropout)          (None, 128)               0         \n",
            "_________________________________________________________________\n",
            "dense_2 (Dense)              (None, 10)                1290      \n",
            "=================================================================\n",
            "Total params: 1,199,882\n",
            "Trainable params: 1,199,882\n",
            "Non-trainable params: 0\n",
            "_________________________________________________________________\n"
          ],
          "name": "stdout"
        }
      ]
    },
    {
      "cell_type": "code",
      "metadata": {
        "id": "qljEvSsGqjZF",
        "colab_type": "code",
        "outputId": "8cb447c8-ecb3-4c08-81d7-0767fa7d35a5",
        "colab": {
          "base_uri": "https://localhost:8080/",
          "height": 462
        }
      },
      "source": [
        "# Step 9 : Training the model\n",
        "model.fit(Train_samples,Train_targets, validation_split = 0.1, epochs=10, batch_size=1000)\n"
      ],
      "execution_count": 9,
      "outputs": [
        {
          "output_type": "stream",
          "text": [
            "W0730 07:12:07.712352 140633671989120 deprecation.py:323] From /usr/local/lib/python3.6/dist-packages/tensorflow/python/ops/math_grad.py:1250: add_dispatch_support.<locals>.wrapper (from tensorflow.python.ops.array_ops) is deprecated and will be removed in a future version.\n",
            "Instructions for updating:\n",
            "Use tf.where in 2.0, which has the same broadcast rule as np.where\n"
          ],
          "name": "stderr"
        },
        {
          "output_type": "stream",
          "text": [
            "Train on 54000 samples, validate on 6000 samples\n",
            "Epoch 1/10\n",
            "54000/54000 [==============================] - 126s 2ms/step - loss: 0.6007 - acc: 0.8144 - val_loss: 0.1164 - val_acc: 0.9695\n",
            "Epoch 2/10\n",
            "54000/54000 [==============================] - 125s 2ms/step - loss: 0.1579 - acc: 0.9535 - val_loss: 0.0694 - val_acc: 0.9828\n",
            "Epoch 3/10\n",
            "54000/54000 [==============================] - 129s 2ms/step - loss: 0.1025 - acc: 0.9699 - val_loss: 0.0517 - val_acc: 0.9865\n",
            "Epoch 4/10\n",
            "54000/54000 [==============================] - 153s 3ms/step - loss: 0.0808 - acc: 0.9758 - val_loss: 0.0476 - val_acc: 0.9870\n",
            "Epoch 5/10\n",
            "54000/54000 [==============================] - 125s 2ms/step - loss: 0.0667 - acc: 0.9804 - val_loss: 0.0412 - val_acc: 0.9902\n",
            "Epoch 6/10\n",
            "54000/54000 [==============================] - 124s 2ms/step - loss: 0.0592 - acc: 0.9819 - val_loss: 0.0432 - val_acc: 0.9895\n",
            "Epoch 7/10\n",
            "54000/54000 [==============================] - 124s 2ms/step - loss: 0.0529 - acc: 0.9829 - val_loss: 0.0393 - val_acc: 0.9903\n",
            "Epoch 8/10\n",
            "54000/54000 [==============================] - 124s 2ms/step - loss: 0.0478 - acc: 0.9852 - val_loss: 0.0389 - val_acc: 0.9902\n",
            "Epoch 9/10\n",
            "54000/54000 [==============================] - 124s 2ms/step - loss: 0.0441 - acc: 0.9860 - val_loss: 0.0356 - val_acc: 0.9907\n",
            "Epoch 10/10\n",
            "54000/54000 [==============================] - 124s 2ms/step - loss: 0.0394 - acc: 0.9880 - val_loss: 0.0351 - val_acc: 0.9917\n"
          ],
          "name": "stdout"
        },
        {
          "output_type": "execute_result",
          "data": {
            "text/plain": [
              "<keras.callbacks.History at 0x7fe7980e9b70>"
            ]
          },
          "metadata": {
            "tags": []
          },
          "execution_count": 9
        }
      ]
    },
    {
      "cell_type": "code",
      "metadata": {
        "id": "2WTpf-86d-qO",
        "colab_type": "code",
        "colab": {
          "base_uri": "https://localhost:8080/",
          "height": 68
        },
        "outputId": "db4a707f-a4b2-4175-ee98-3158003c469b"
      },
      "source": [
        "# Step 10 : Testing the model\n",
        "testing=model.evaluate(Test_samples,Test_targets)\n",
        "print(\"\\n%s: %.2f%%\" % (model.metrics_names[1]+'uracy of Model on testing data', testing[1]*100))"
      ],
      "execution_count": 10,
      "outputs": [
        {
          "output_type": "stream",
          "text": [
            "10000/10000 [==============================] - 7s 722us/step\n",
            "\n",
            "accuracy of Model on testing data: 99.05%\n"
          ],
          "name": "stdout"
        }
      ]
    },
    {
      "cell_type": "code",
      "metadata": {
        "id": "6gZD_fcKrhKn",
        "colab_type": "code",
        "colab": {
          "base_uri": "https://localhost:8080/",
          "height": 510
        },
        "outputId": "897bd13d-bd9e-442b-a936-11f0da28e8a1"
      },
      "source": [
        "#Step 11 : Evaluate teh model \n",
        "##Compute a confusion matrix for each class or sample (0-9)\n",
        "from sklearn.metrics import multilabel_confusion_matrix \n",
        "predictions=np.round(model.predict(Test_samples))\n",
        "print(multilabel_confusion_matrix(Test_targets,predictions))"
      ],
      "execution_count": 11,
      "outputs": [
        {
          "output_type": "stream",
          "text": [
            "[[[9012    8]\n",
            "  [   4  976]]\n",
            "\n",
            " [[8860    5]\n",
            "  [  11 1124]]\n",
            "\n",
            " [[8957   11]\n",
            "  [  11 1021]]\n",
            "\n",
            " [[8975   15]\n",
            "  [   4 1006]]\n",
            "\n",
            " [[9015    3]\n",
            "  [  11  971]]\n",
            "\n",
            " [[9101    7]\n",
            "  [   9  883]]\n",
            "\n",
            " [[9033    9]\n",
            "  [  15  943]]\n",
            "\n",
            " [[8966    6]\n",
            "  [  13 1015]]\n",
            "\n",
            " [[9012   14]\n",
            "  [   8  966]]\n",
            "\n",
            " [[8983    8]\n",
            "  [  16  993]]]\n"
          ],
          "name": "stdout"
        }
      ]
    }
  ]
}