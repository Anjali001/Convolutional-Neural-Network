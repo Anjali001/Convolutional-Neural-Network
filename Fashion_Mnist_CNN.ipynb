{
  "nbformat": 4,
  "nbformat_minor": 0,
  "metadata": {
    "colab": {
      "name": "Fashion_Mnist_CNN.ipynb",
      "version": "0.3.2",
      "provenance": [],
      "include_colab_link": true
    },
    "kernelspec": {
      "name": "python3",
      "display_name": "Python 3"
    }
  },
  "cells": [
    {
      "cell_type": "markdown",
      "metadata": {
        "id": "view-in-github",
        "colab_type": "text"
      },
      "source": [
        "<a href=\"https://colab.research.google.com/github/Anjali001/Convolutional-Neural-Network/blob/master/Fashion_Mnist_CNN.ipynb\" target=\"_parent\"><img src=\"https://colab.research.google.com/assets/colab-badge.svg\" alt=\"Open In Colab\"/></a>"
      ]
    },
    {
      "cell_type": "code",
      "metadata": {
        "id": "G75wluKZumSH",
        "colab_type": "code",
        "colab": {
          "base_uri": "https://localhost:8080/",
          "height": 340
        },
        "outputId": "7129191b-008a-4d1f-ad50-b308b7b15abe"
      },
      "source": [
        "## Fashion - MNIST dataset is present in Keras\n",
        "from keras.datasets import fashion_mnist\n",
        "from keras.models import Sequential\n",
        "from keras.layers import Dense, Dropout, Flatten\n",
        "from keras.layers import Conv2D, MaxPooling2D\n",
        "import numpy as np\n",
        "## Use https://keras.io/datasets/ \n",
        "samples=fashion_mnist.load_data()\n",
        "type(samples)\n",
        "## This dataset is a set of 2 tuples. One for Training and other for testing\n",
        "(Train_samples,Train_targets),(Test_samples,Test_targets)=samples\n",
        "# Step 1 : Know your data\n",
        "print(len(Train_samples))\n",
        "print(Train_samples.shape)\n",
        "print(len(Train_targets))\n",
        "print(Train_targets.shape)\n",
        "print(len(Test_samples))\n",
        "print(Test_samples.shape)\n",
        "print(len(Test_targets))\n",
        "print(Test_targets.shape)\n",
        "print(np.amax(Train_samples)) # Max value\n",
        "print(np.amin(Train_samples))#Min Value"
      ],
      "execution_count": 1,
      "outputs": [
        {
          "output_type": "stream",
          "text": [
            "Using TensorFlow backend.\n"
          ],
          "name": "stderr"
        },
        {
          "output_type": "stream",
          "text": [
            "Downloading data from http://fashion-mnist.s3-website.eu-central-1.amazonaws.com/train-labels-idx1-ubyte.gz\n",
            "32768/29515 [=================================] - 0s 4us/step\n",
            "Downloading data from http://fashion-mnist.s3-website.eu-central-1.amazonaws.com/train-images-idx3-ubyte.gz\n",
            "26427392/26421880 [==============================] - 2s 0us/step\n",
            "Downloading data from http://fashion-mnist.s3-website.eu-central-1.amazonaws.com/t10k-labels-idx1-ubyte.gz\n",
            "8192/5148 [===============================================] - 0s 0us/step\n",
            "Downloading data from http://fashion-mnist.s3-website.eu-central-1.amazonaws.com/t10k-images-idx3-ubyte.gz\n",
            "4423680/4422102 [==============================] - 1s 0us/step\n",
            "60000\n",
            "(60000, 28, 28)\n",
            "60000\n",
            "(60000,)\n",
            "10000\n",
            "(10000, 28, 28)\n",
            "10000\n",
            "(10000,)\n",
            "255\n",
            "0\n"
          ],
          "name": "stdout"
        }
      ]
    },
    {
      "cell_type": "code",
      "metadata": {
        "id": "vcAO00CGvc2M",
        "colab_type": "code",
        "colab": {
          "base_uri": "https://localhost:8080/",
          "height": 1000
        },
        "outputId": "a929b3db-652b-4ccb-fa9f-217a008332e6"
      },
      "source": [
        "# Step 2 : See how data looks like\n",
        "%matplotlib inline\n",
        "import matplotlib.pyplot as plt\n",
        "for i in range(10):\n",
        "  pixels = Train_samples[i] # Shape (28, 28)\n",
        "  plt.imshow(pixels, cmap='gray')\n",
        "  plt.show()\n",
        "  print('Label of image is', Train_targets[i])"
      ],
      "execution_count": 2,
      "outputs": [
        {
          "output_type": "display_data",
          "data": {
            "image/png": "[encoded data removed]",
            "text/plain": [
              "<Figure size 432x288 with 1 Axes>"
            ]
          },
          "metadata": {
            "tags": []
          }
        },
        {
          "output_type": "stream",
          "text": [
            "Label of image is 9\n"
          ],
          "name": "stdout"
        },
        {
          "output_type": "display_data",
          "data": {
            "image/png": "[encoded data removed]",
            "text/plain": [
              "<Figure size 432x288 with 1 Axes>"
            ]
          },
          "metadata": {
            "tags": []
          }
        },
        {
          "output_type": "stream",
          "text": [
            "Label of image is 0\n"
          ],
          "name": "stdout"
        },
        {
          "output_type": "display_data",
          "data": {
            "image/png": "[encoded data removed]",
            "text/plain": [
              "<Figure size 432x288 with 1 Axes>"
            ]
          },
          "metadata": {
            "tags": []
          }
        },
        {
          "output_type": "stream",
          "text": [
            "Label of image is 0\n"
          ],
          "name": "stdout"
        },
        {
          "output_type": "display_data",
          "data": {
            "image/png": "[encoded data removed]",
            "text/plain": [
              "<Figure size 432x288 with 1 Axes>"
            ]
          },
          "metadata": {
            "tags": []
          }
        },
        {
          "output_type": "stream",
          "text": [
            "Label of image is 3\n"
          ],
          "name": "stdout"
        },
        {
          "output_type": "display_data",
          "data": {
            "image/png": "[encoded data removed]",
            "text/plain": [
              "<Figure size 432x288 with 1 Axes>"
            ]
          },
          "metadata": {
            "tags": []
          }
        },
        {
          "output_type": "stream",
          "text": [
            "Label of image is 0\n"
          ],
          "name": "stdout"
        },
        {
          "output_type": "display_data",
          "data": {
            "image/png": "[encoded data removed]",
            "text/plain": [
              "<Figure size 432x288 with 1 Axes>"
            ]
          },
          "metadata": {
            "tags": []
          }
        },
        {
          "output_type": "stream",
          "text": [
            "Label of image is 2\n"
          ],
          "name": "stdout"
        },
        {
          "output_type": "display_data",
          "data": {
            "image/png": "[encoded data removed]",
            "text/plain": [
              "<Figure size 432x288 with 1 Axes>"
            ]
          },
          "metadata": {
            "tags": []
          }
        },
        {
          "output_type": "stream",
          "text": [
            "Label of image is 7\n"
          ],
          "name": "stdout"
        },
        {
          "output_type": "display_data",
          "data": {
            "image/png": "[encoded data removed]",
            "text/plain": [
              "<Figure size 432x288 with 1 Axes>"
            ]
          },
          "metadata": {
            "tags": []
          }
        },
        {
          "output_type": "stream",
          "text": [
            "Label of image is 2\n"
          ],
          "name": "stdout"
        },
        {
          "output_type": "display_data",
          "data": {
            "image/png": "[encoded data removed]",
            "text/plain": [
              "<Figure size 432x288 with 1 Axes>"
            ]
          },
          "metadata": {
            "tags": []
          }
        },
        {
          "output_type": "stream",
          "text": [
            "Label of image is 5\n"
          ],
          "name": "stdout"
        },
        {
          "output_type": "display_data",
          "data": {
            "image/png": "[encoded data removed]",
            "text/plain": [
              "<Figure size 432x288 with 1 Axes>"
            ]
          },
          "metadata": {
            "tags": []
          }
        },
        {
          "output_type": "stream",
          "text": [
            "Label of image is 5\n"
          ],
          "name": "stdout"
        }
      ]
    },
    {
      "cell_type": "code",
      "metadata": {
        "id": "bRY2B6D6vwcA",
        "colab_type": "code",
        "colab": {}
      },
      "source": [
        "# Step 3 : Reshape the data . 1 at last signifies that it's a grey scale image. 3 is used for RGB images.\n",
        "Train_samples=Train_samples.reshape(Train_samples.shape[0], 28, 28, 1)\n",
        "Test_samples =Test_samples.reshape(Test_samples.shape[0], 28, 28, 1)"
      ],
      "execution_count": 0,
      "outputs": []
    },
    {
      "cell_type": "code",
      "metadata": {
        "id": "iOUX3cjcvzVG",
        "colab_type": "code",
        "colab": {}
      },
      "source": [
        "# Step 4 : Scaling the input features between 0-1\n",
        "Train_samples=Train_samples/255\n",
        "Test_samples =Test_samples/255"
      ],
      "execution_count": 0,
      "outputs": []
    },
    {
      "cell_type": "code",
      "metadata": {
        "id": "EXJAP5gAv1zm",
        "colab_type": "code",
        "colab": {}
      },
      "source": [
        "# Step 6 : One-Hot Encoding\n",
        "from keras.utils import to_categorical\n",
        "Train_targets = to_categorical(Train_targets,num_classes=10)\n",
        "Test_targets = to_categorical(Test_targets,num_classes=10)\n"
      ],
      "execution_count": 0,
      "outputs": []
    },
    {
      "cell_type": "code",
      "metadata": {
        "id": "0oPNWEPGv5YV",
        "colab_type": "code",
        "colab": {
          "base_uri": "https://localhost:8080/",
          "height": 343
        },
        "outputId": "569e3dd4-79c8-4b0c-c31d-547e676307a7"
      },
      "source": [
        "# Step 7 : Creating the model\n",
        "model = Sequential()\n",
        "model.add(Conv2D(32, kernel_size=(3, 3),activation='relu',input_shape=(28,28,1)))\n",
        "model.add(Conv2D(64, kernel_size=(3, 3), activation='relu'))\n",
        "model.add(MaxPooling2D(pool_size=(2, 2)))\n",
        "model.add(Dropout(0.3))\n",
        "model.add(Flatten())\n",
        "model.add(Dense(256, activation='relu'))\n",
        "model.add(Dropout(0.5))\n",
        "model.add(Dense(10, activation='softmax'))\n",
        "model.compile(optimizer='adam',loss=['categorical_crossentropy'],metrics=['accuracy'])\n"
      ],
      "execution_count": 6,
      "outputs": [
        {
          "output_type": "stream",
          "text": [
            "WARNING: Logging before flag parsing goes to stderr.\n",
            "W0730 12:42:10.133916 139770949269376 deprecation_wrapper.py:119] From /usr/local/lib/python3.6/dist-packages/keras/backend/tensorflow_backend.py:74: The name tf.get_default_graph is deprecated. Please use tf.compat.v1.get_default_graph instead.\n",
            "\n",
            "W0730 12:42:10.176303 139770949269376 deprecation_wrapper.py:119] From /usr/local/lib/python3.6/dist-packages/keras/backend/tensorflow_backend.py:517: The name tf.placeholder is deprecated. Please use tf.compat.v1.placeholder instead.\n",
            "\n",
            "W0730 12:42:10.184898 139770949269376 deprecation_wrapper.py:119] From /usr/local/lib/python3.6/dist-packages/keras/backend/tensorflow_backend.py:4138: The name tf.random_uniform is deprecated. Please use tf.random.uniform instead.\n",
            "\n",
            "W0730 12:42:10.240684 139770949269376 deprecation_wrapper.py:119] From /usr/local/lib/python3.6/dist-packages/keras/backend/tensorflow_backend.py:3976: The name tf.nn.max_pool is deprecated. Please use tf.nn.max_pool2d instead.\n",
            "\n",
            "W0730 12:42:10.247315 139770949269376 deprecation_wrapper.py:119] From /usr/local/lib/python3.6/dist-packages/keras/backend/tensorflow_backend.py:133: The name tf.placeholder_with_default is deprecated. Please use tf.compat.v1.placeholder_with_default instead.\n",
            "\n",
            "W0730 12:42:10.258371 139770949269376 deprecation.py:506] From /usr/local/lib/python3.6/dist-packages/keras/backend/tensorflow_backend.py:3445: calling dropout (from tensorflow.python.ops.nn_ops) with keep_prob is deprecated and will be removed in a future version.\n",
            "Instructions for updating:\n",
            "Please use `rate` instead of `keep_prob`. Rate should be set to `rate = 1 - keep_prob`.\n",
            "W0730 12:42:10.337424 139770949269376 deprecation_wrapper.py:119] From /usr/local/lib/python3.6/dist-packages/keras/optimizers.py:790: The name tf.train.Optimizer is deprecated. Please use tf.compat.v1.train.Optimizer instead.\n",
            "\n",
            "W0730 12:42:10.366810 139770949269376 deprecation_wrapper.py:119] From /usr/local/lib/python3.6/dist-packages/keras/backend/tensorflow_backend.py:3295: The name tf.log is deprecated. Please use tf.math.log instead.\n",
            "\n"
          ],
          "name": "stderr"
        }
      ]
    },
    {
      "cell_type": "code",
      "metadata": {
        "id": "oA_mrPvov7uH",
        "colab_type": "code",
        "colab": {
          "base_uri": "https://localhost:8080/",
          "height": 408
        },
        "outputId": "6e28a304-b77c-47e2-8e5b-a17eb634b0db"
      },
      "source": [
        "# Step 8 : Understanding the model\n",
        "model.summary()"
      ],
      "execution_count": 7,
      "outputs": [
        {
          "output_type": "stream",
          "text": [
            "_________________________________________________________________\n",
            "Layer (type)                 Output Shape              Param #   \n",
            "=================================================================\n",
            "conv2d_1 (Conv2D)            (None, 26, 26, 32)        320       \n",
            "_________________________________________________________________\n",
            "conv2d_2 (Conv2D)            (None, 24, 24, 64)        18496     \n",
            "_________________________________________________________________\n",
            "max_pooling2d_1 (MaxPooling2 (None, 12, 12, 64)        0         \n",
            "_________________________________________________________________\n",
            "dropout_1 (Dropout)          (None, 12, 12, 64)        0         \n",
            "_________________________________________________________________\n",
            "flatten_1 (Flatten)          (None, 9216)              0         \n",
            "_________________________________________________________________\n",
            "dense_1 (Dense)              (None, 256)               2359552   \n",
            "_________________________________________________________________\n",
            "dropout_2 (Dropout)          (None, 256)               0         \n",
            "_________________________________________________________________\n",
            "dense_2 (Dense)              (None, 10)                2570      \n",
            "=================================================================\n",
            "Total params: 2,380,938\n",
            "Trainable params: 2,380,938\n",
            "Non-trainable params: 0\n",
            "_________________________________________________________________\n"
          ],
          "name": "stdout"
        }
      ]
    },
    {
      "cell_type": "code",
      "metadata": {
        "id": "rsOisSMSv9nS",
        "colab_type": "code",
        "colab": {
          "base_uri": "https://localhost:8080/",
          "height": 462
        },
        "outputId": "2afe5feb-c1e1-4fb0-d30d-a13366ff26e5"
      },
      "source": [
        "# Step 9 : Training the model\n",
        "model.fit(Train_samples,Train_targets, validation_split = 0.1, epochs=10, batch_size=1000,verbose=1)\n"
      ],
      "execution_count": 8,
      "outputs": [
        {
          "output_type": "stream",
          "text": [
            "W0730 12:42:10.542888 139770949269376 deprecation.py:323] From /usr/local/lib/python3.6/dist-packages/tensorflow/python/ops/math_grad.py:1250: add_dispatch_support.<locals>.wrapper (from tensorflow.python.ops.array_ops) is deprecated and will be removed in a future version.\n",
            "Instructions for updating:\n",
            "Use tf.where in 2.0, which has the same broadcast rule as np.where\n"
          ],
          "name": "stderr"
        },
        {
          "output_type": "stream",
          "text": [
            "Train on 54000 samples, validate on 6000 samples\n",
            "Epoch 1/10\n",
            "54000/54000 [==============================] - 133s 2ms/step - loss: 0.7510 - acc: 0.7331 - val_loss: 0.4229 - val_acc: 0.8443\n",
            "Epoch 2/10\n",
            "54000/54000 [==============================] - 132s 2ms/step - loss: 0.4151 - acc: 0.8524 - val_loss: 0.3416 - val_acc: 0.8775\n",
            "Epoch 3/10\n",
            "54000/54000 [==============================] - 132s 2ms/step - loss: 0.3458 - acc: 0.8770 - val_loss: 0.3050 - val_acc: 0.8845\n",
            "Epoch 4/10\n",
            "54000/54000 [==============================] - 131s 2ms/step - loss: 0.3131 - acc: 0.8877 - val_loss: 0.2855 - val_acc: 0.8938\n",
            "Epoch 5/10\n",
            "54000/54000 [==============================] - 132s 2ms/step - loss: 0.2879 - acc: 0.8960 - val_loss: 0.2600 - val_acc: 0.9060\n",
            "Epoch 6/10\n",
            "54000/54000 [==============================] - 133s 2ms/step - loss: 0.2638 - acc: 0.9052 - val_loss: 0.2569 - val_acc: 0.9053\n",
            "Epoch 7/10\n",
            "54000/54000 [==============================] - 131s 2ms/step - loss: 0.2489 - acc: 0.9098 - val_loss: 0.2402 - val_acc: 0.9137\n",
            "Epoch 8/10\n",
            "54000/54000 [==============================] - 131s 2ms/step - loss: 0.2359 - acc: 0.9139 - val_loss: 0.2345 - val_acc: 0.9115\n",
            "Epoch 9/10\n",
            "54000/54000 [==============================] - 131s 2ms/step - loss: 0.2243 - acc: 0.9171 - val_loss: 0.2351 - val_acc: 0.9132\n",
            "Epoch 10/10\n",
            "54000/54000 [==============================] - 131s 2ms/step - loss: 0.2115 - acc: 0.9221 - val_loss: 0.2237 - val_acc: 0.9195\n"
          ],
          "name": "stdout"
        },
        {
          "output_type": "execute_result",
          "data": {
            "text/plain": [
              "<keras.callbacks.History at 0x7f1ebc52a6d8>"
            ]
          },
          "metadata": {
            "tags": []
          },
          "execution_count": 8
        }
      ]
    },
    {
      "cell_type": "code",
      "metadata": {
        "id": "F50QNC-fwLUk",
        "colab_type": "code",
        "colab": {
          "base_uri": "https://localhost:8080/",
          "height": 68
        },
        "outputId": "24826adc-1ad3-4e0c-a51c-ac7cfaef1e4c"
      },
      "source": [
        "# Step 10 : Testing the model\n",
        "testing=model.evaluate(Test_samples,Test_targets)\n",
        "print(\"\\n%s: %.2f%%\" % (model.metrics_names[1]+'uracy of Model on testing data', testing[1]*100))"
      ],
      "execution_count": 9,
      "outputs": [
        {
          "output_type": "stream",
          "text": [
            "10000/10000 [==============================] - 8s 819us/step\n",
            "\n",
            "accuracy of Model on testing data: 91.45%\n"
          ],
          "name": "stdout"
        }
      ]
    },
    {
      "cell_type": "code",
      "metadata": {
        "id": "FkpxvOQjwNLg",
        "colab_type": "code",
        "colab": {
          "base_uri": "https://localhost:8080/",
          "height": 510
        },
        "outputId": "01855216-a3b6-46dc-f780-99279cd2015c"
      },
      "source": [
        "#Step 11 : Evaluate teh model \n",
        "##Compute a confusion matrix for each class or sample (0-9)\n",
        "from sklearn.metrics import multilabel_confusion_matrix \n",
        "predictions=np.round(model.predict(Test_samples))\n",
        "print(multilabel_confusion_matrix(Test_targets,predictions))"
      ],
      "execution_count": 10,
      "outputs": [
        {
          "output_type": "stream",
          "text": [
            "[[[8905   95]\n",
            "  [ 161  839]]\n",
            "\n",
            " [[8996    4]\n",
            "  [  28  972]]\n",
            "\n",
            " [[8883  117]\n",
            "  [ 145  855]]\n",
            "\n",
            " [[8907   93]\n",
            "  [  77  923]]\n",
            "\n",
            " [[8868  132]\n",
            "  [ 148  852]]\n",
            "\n",
            " [[8990   10]\n",
            "  [  16  984]]\n",
            "\n",
            " [[8810  190]\n",
            "  [ 284  716]]\n",
            "\n",
            " [[8936   64]\n",
            "  [  16  984]]\n",
            "\n",
            " [[8982   18]\n",
            "  [  25  975]]\n",
            "\n",
            " [[8985   15]\n",
            "  [  52  948]]]\n"
          ],
          "name": "stdout"
        }
      ]
    }
  ]
}